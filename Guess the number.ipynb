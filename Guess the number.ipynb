{
 "cells": [
  {
   "cell_type": "markdown",
   "metadata": {},
   "source": [
    "# Assignment No 2 : Guess the number"
   ]
  },
  {
   "cell_type": "code",
   "execution_count": 2,
   "metadata": {},
   "outputs": [
    {
     "name": "stdout",
     "output_type": "stream",
     "text": [
      "The First Random Number is = 47\n",
      "Guess the number=23\n",
      "The guess is wrong\n",
      "The random number generated is greater than guessed number by  24\n"
     ]
    }
   ],
   "source": [
    "import random\n",
    "v1=round((random.random()*100))\n",
    "print(\"The First Random Number is =\",v1)\n",
    "\n",
    "v2=int(input(\"Guess the number=\"))\n",
    "if v1==v2:\n",
    "    print(\"The guess is right\")\n",
    "elif v1>v2:\n",
    "    print(\"The guess is wrong\")\n",
    "    print(\"The random number generated is greater than guessed number by \",v1-v2)\n",
    "elif v1<v2:  \n",
    "    print(\"The guess is wrong\")\n",
    "    print(\"The random number generated is lower than guessed number by \",v2-v1)    \n",
    "    \n"
   ]
  },
  {
   "cell_type": "code",
   "execution_count": null,
   "metadata": {},
   "outputs": [],
   "source": []
  },
  {
   "cell_type": "code",
   "execution_count": null,
   "metadata": {},
   "outputs": [],
   "source": []
  }
 ],
 "metadata": {
  "kernelspec": {
   "display_name": "Python 3",
   "language": "python",
   "name": "python3"
  },
  "language_info": {
   "codemirror_mode": {
    "name": "ipython",
    "version": 3
   },
   "file_extension": ".py",
   "mimetype": "text/x-python",
   "name": "python",
   "nbconvert_exporter": "python",
   "pygments_lexer": "ipython3",
   "version": "3.7.4"
  }
 },
 "nbformat": 4,
 "nbformat_minor": 2
}
