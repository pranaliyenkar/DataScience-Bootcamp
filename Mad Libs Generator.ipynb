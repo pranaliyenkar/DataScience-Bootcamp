{
 "cells": [
  {
   "cell_type": "code",
   "execution_count": 2,
   "metadata": {},
   "outputs": [
    {
     "name": "stdout",
     "output_type": "stream",
     "text": [
      "Welcome to Mad Libs Generator\n",
      "enter Name : Pranali\n",
      "enter petName : Jammy\n",
      "enter a color name : Red\n",
      "enter a place name : Durham\n",
      "enter a adjactive : happy\n",
      "enter a food name : kebab\n",
      "enter a hobby name : reading\n",
      "Hi my name is Pranali but my friends call me Jammy. My favorite color is Red and my favorite place is Durham.I am very Happy person.I like to eat Kebab and Reading is my favourite hobby\n"
     ]
    }
   ],
   "source": [
    "print(\"Welcome to Mad Libs Generator\")\n",
    "\n",
    "Name = input('enter Name : ').title()\n",
    "petname=input('enter petName : ').title()\n",
    "color = input('enter a color name : ').title()\n",
    "place = input('enter a place name : ').title()\n",
    "adjactive1 = input('enter a adjactive : ').title()\n",
    "food = input('enter a food name : ').title()\n",
    "hobby = input('enter a hobby name : ').title()\n",
    "print('Hi my name is '+ Name+' but my friends call me '+petname+ '. My favorite color is '+color+' and my favorite place is '+place+'.I am very '+adjactive1+ ' person.I like to eat '+food+' and '+hobby+' is my favourite hobby')\n"
   ]
  },
  {
   "cell_type": "code",
   "execution_count": null,
   "metadata": {},
   "outputs": [],
   "source": []
  }
 ],
 "metadata": {
  "kernelspec": {
   "display_name": "Python 3",
   "language": "python",
   "name": "python3"
  },
  "language_info": {
   "codemirror_mode": {
    "name": "ipython",
    "version": 3
   },
   "file_extension": ".py",
   "mimetype": "text/x-python",
   "name": "python",
   "nbconvert_exporter": "python",
   "pygments_lexer": "ipython3",
   "version": "3.7.4"
  }
 },
 "nbformat": 4,
 "nbformat_minor": 2
}
