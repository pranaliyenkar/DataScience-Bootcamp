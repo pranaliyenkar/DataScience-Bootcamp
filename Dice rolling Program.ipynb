{
 "cells": [
  {
   "cell_type": "code",
   "execution_count": 1,
   "metadata": {},
   "outputs": [
    {
     "name": "stdout",
     "output_type": "stream",
     "text": [
      "Welcome to Dice rolling Program\n",
      "   The First Random Number is  4\n",
      "You would ike to roll again (Y/N)?y\n",
      "   The Next Number is  6\n",
      "You would ike to roll again (Y/N)?y\n",
      "   The Next Number is  3\n",
      "You would ike to roll again (Y/N)?y\n",
      "   The Next Number is  1\n",
      "You would ike to roll again (Y/N)?n\n",
      "Thank You!!\n"
     ]
    }
   ],
   "source": [
    "import random\n",
    "print(\"Welcome to Dice rolling Program\")\n",
    "min=1\n",
    "max=6\n",
    "ask=\"N\"\n",
    "print(\"   The First Random Number is \",random.randint(min, max))\n",
    "ask=input(\"You would ike to roll again (Y/N)?\")\n",
    "while (ask.upper()==\"Y\") :\n",
    "    print(\"   The Next Number is \",random.randint(min, max))\n",
    "    ask=input(\"You would ike to roll again (Y/N)?\")\n",
    "print(\"Thank You!!\")"
   ]
  },
  {
   "cell_type": "code",
   "execution_count": null,
   "metadata": {},
   "outputs": [],
   "source": []
  }
 ],
 "metadata": {
  "kernelspec": {
   "display_name": "Python 3",
   "language": "python",
   "name": "python3"
  },
  "language_info": {
   "codemirror_mode": {
    "name": "ipython",
    "version": 3
   },
   "file_extension": ".py",
   "mimetype": "text/x-python",
   "name": "python",
   "nbconvert_exporter": "python",
   "pygments_lexer": "ipython3",
   "version": "3.7.4"
  }
 },
 "nbformat": 4,
 "nbformat_minor": 2
}
